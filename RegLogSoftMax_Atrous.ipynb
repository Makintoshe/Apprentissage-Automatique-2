{
 "cells": [
  {
   "cell_type": "markdown",
   "metadata": {
    "colab_type": "text",
    "id": "rg4X17cNaqGa"
   },
   "source": [
    "**TP Softmax et regression logistique multiclasse **\n",
    "\n",
    "Le but de ce TP est d'implementer un cout softmax (une extension de la regression logistique au cas multiclasse). Dans ce contexte, la modélisation de la probabilité d'appartenance à une classe est donnée par \n",
    "$$\n",
    "P(y =k | x ) = \\frac{\\exp{(x^\\top w_k)}}{\\sum_{j=1}^C\\exp{(x^\\top w_j)}}\n",
    "$$\n",
    "où $w_k$ est un vecteur de $\\mathbb{R}^d$.\n",
    "\n",
    "En considérant que $y_{i,j}$ représente la probabilité d'appartenance à une classe $j$ de l'exemple x_i,  la fonction de cout  cross-entropy s'écrit\n",
    "\n",
    "$$\n",
    "L(y_i, \\hat y_i) = - \\sum_{j=1}^C y_{i,j} \\log( \\hat y_{i,j})\n",
    " $$\n",
    " où  $\\hat y_{i,j}$ est modélisé par un softmax\n",
    " \n",
    " Nous allons implémenté ici, un modele linéaire multi-classe appris telle que\n",
    " \n",
    " $$\n",
    " \\min_W \\frac{1}{n} \\sum_i L(y_i,\\hat y_i) + \\frac{\\lambda}{2}  \\sum_{i,j} w_{i,j}^2\n",
    " $$\n",
    " $W$ represente ici une matrice de taille $d\\times C$ contenant l'ensemble des $\\{w_k\\}$"
   ]
  },
  {
   "cell_type": "markdown",
   "metadata": {
    "colab_type": "text",
    "id": "qZimA_SoewMr"
   },
   "source": [
    "Nous allons tous d'abord charger des données relatives à un  problème de reconnaissance de chiffres manuscrites"
   ]
  },
  {
   "cell_type": "code",
   "execution_count": 267,
   "metadata": {
    "colab": {},
    "colab_type": "code",
    "id": "FqNHu4IRbxRn"
   },
   "outputs": [
    {
     "data": {
      "text/plain": [
       "<matplotlib.image.AxesImage at 0x7f789e05a128>"
      ]
     },
     "execution_count": 267,
     "metadata": {},
     "output_type": "execute_result"
    },
    {
     "data": {
      "image/png": "[encoded data removed]",
      "text/plain": [
       "<Figure size 432x288 with 1 Axes>"
      ]
     },
     "metadata": {
      "needs_background": "light"
     },
     "output_type": "display_data"
    }
   ],
   "source": [
    "\n",
    "import numpy as np\n",
    "from sklearn.datasets import load_digits\n",
    "from sklearn.model_selection import train_test_split\n",
    "n_class = 10\n",
    "X,y = load_digits(n_class=n_class, return_X_y=True)\n",
    "\n",
    "X_train, X_test, y_train, y_test = train_test_split(X, y, test_size=0.33, random_state=42)\n",
    "plt.imshow(X[4].reshape(8,8))"
   ]
  },
  {
   "cell_type": "markdown",
   "metadata": {
    "colab_type": "text",
    "id": "K9FjJKY7b1ri"
   },
   "source": [
    "Ensuite, nous allons créer des fonctions permettant\n",
    "\n",
    "\n",
    "1.  de representer les classes comme une probabilé d'appartenance à une classe\n",
    "2.  d'evaluer une fonction softmax  étant donné un $z= x^\\top w$\n",
    "3.  d'estimer la probabilité d'appartenance d'un ensemble d'exemple etant donné les points $W$ \n",
    "\n"
   ]
  },
  {
   "cell_type": "code",
   "execution_count": 268,
   "metadata": {
    "colab": {},
    "colab_type": "code",
    "id": "Xfrl3Yykb9Oq"
   },
   "outputs": [],
   "source": [
    "def oneHotEncodage(y,n_class):\n",
    "    n = y.shape[0]\n",
    "    y_one = np.zeros((n,n_class))\n",
    "    for i in range(n):\n",
    "        y_one[i,y[i]] = 1\n",
    "    return y_one\n",
    "\n",
    "\n",
    "def softmax(z):\n",
    "    z -= np.max(z)\n",
    "    sm = (np.exp(z).T/np.sum(np.exp(z), axis=1)).T\n",
    "    return sm\n",
    "\n",
    "def get_prob_pred(X,W):\n",
    "    probs = softmax(X@W)\n",
    "    preds = np.argmax(probs, axis=1)\n",
    "    return probs,preds\n",
    "  "
   ]
  },
  {
   "cell_type": "markdown",
   "metadata": {
    "colab_type": "text",
    "id": "s8THeY6Qf_16"
   },
   "source": [
    "Nous allons maintenant implémenter une fonction qui calcule la fonction de cout et le gradient. Nous serons ainsi en mesure d'implementer une descente de gradient avec backtracking pour optimiser les paramètres $W$.  "
   ]
  },
  {
   "cell_type": "code",
   "execution_count": 269,
   "metadata": {
    "colab": {},
    "colab_type": "code",
    "id": "SVYMmB39cIgO"
   },
   "outputs": [],
   "source": [
    "def get_loss_grad(W,X,y,lam,n_class):\n",
    "    n = X.shape[0] #First we get the number of training examples\n",
    "    y_mat = oneHotEncodage(y,n_class) #Next we convert the integer class coding into a one-hot representation\n",
    "    scores = X@W  #Then we compute raw class scores given our input and current weights\n",
    "    probs = softmax(scores) #Next we perform a softmax on these scores to get their probabilities\n",
    "    \n",
    "    loss = (-1/n) *np.sum(y_mat * np.log(probs)) + (lam/2) * np.sum(W.T@W)\n",
    "    grad = (-1/n) * X.T @ (y_mat - probs) + lam * W\n",
    "    return loss,grad"
   ]
  },
  {
   "cell_type": "code",
   "execution_count": 270,
   "metadata": {
    "colab": {},
    "colab_type": "code",
    "id": "NrsSBNwscJ_D"
   },
   "outputs": [
    {
     "name": "stdout",
     "output_type": "stream",
     "text": [
      "0.2702571802544301\n"
     ]
    }
   ],
   "source": [
    "W = np.zeros([X.shape[1],len(np.unique(y))])\n",
    "lam = 1\n",
    "nb_iter = 1000\n",
    "beta = 0.5\n",
    "pas = 1e-2\n",
    "losses = []\n",
    "for i in range(nb_iter):\n",
    "    \n",
    "    # gradient descent with backtracking\n",
    "    # insert your code here\n",
    "    loss, grad = get_loss_grad(W,X_train,y_train,lam,n_class)\n",
    "    losses.append(loss)\n",
    "    W = W - pas*grad\n",
    "print(loss)"
   ]
  },
  {
   "cell_type": "markdown",
   "metadata": {
    "colab_type": "text",
    "id": "VbumdSmBgaaM"
   },
   "source": [
    "\n",
    "\n",
    "1.   Evaluer l'erreur de classification sur les données d'apprentissage après entrainement\n",
    "2.   Afficher l'evolution de la fonction objective apres chaque itération\n",
    "\n"
   ]
  },
  {
   "cell_type": "code",
   "execution_count": 271,
   "metadata": {},
   "outputs": [
    {
     "data": {
      "text/plain": [
       "[<matplotlib.lines.Line2D at 0x7f789dcfde48>]"
      ]
     },
     "execution_count": 271,
     "metadata": {},
     "output_type": "execute_result"
    },
    {
     "data": {
      "image/png": "[encoded data removed]",
      "text/plain": [
       "<Figure size 432x288 with 1 Axes>"
      ]
     },
     "metadata": {
      "needs_background": "light"
     },
     "output_type": "display_data"
    }
   ],
   "source": [
    "from matplotlib import pyplot as plt\n",
    "plt.plot(losses)"
   ]
  },
  {
   "cell_type": "code",
   "execution_count": 272,
   "metadata": {},
   "outputs": [
    {
     "data": {
      "text/plain": [
       "array([0, 1, 2, ..., 8, 9, 8])"
      ]
     },
     "execution_count": 272,
     "metadata": {},
     "output_type": "execute_result"
    }
   ],
   "source": [
    "prob, pred = get_prob_pred(X,W)\n",
    "pred"
   ]
  },
  {
   "cell_type": "code",
   "execution_count": 273,
   "metadata": {},
   "outputs": [
    {
     "data": {
      "text/plain": [
       "array([0, 1, 2, ..., 8, 9, 8])"
      ]
     },
     "execution_count": 273,
     "metadata": {},
     "output_type": "execute_result"
    }
   ],
   "source": [
    "y"
   ]
  },
  {
   "cell_type": "code",
   "execution_count": 274,
   "metadata": {},
   "outputs": [
    {
     "name": "stdout",
     "output_type": "stream",
     "text": [
      "The training accuracy is :  0.970906068162926\n",
      "The test accuracy is :  0.9545454545454546\n"
     ]
    }
   ],
   "source": [
    "def getAccuracy(X, Y, W):\n",
    "    prob, pred = get_prob_pred(X,W)\n",
    "    acc = sum(pred == Y)/(float(len(Y)))\n",
    "    return acc\n",
    "\n",
    "print(\"The training accuracy is : \",getAccuracy(X_train, y_train, W))\n",
    "print(\"The test accuracy is : \",getAccuracy(X_test, y_test, W))"
   ]
  },
  {
   "cell_type": "code",
   "execution_count": 60,
   "metadata": {},
   "outputs": [],
   "source": [
    "def backtrack(x,grad,cost,crit,sigma0,c,rho,fig = True): \n",
    "    d = -grad\n",
    "    i = 0\n",
    "    sigma = sigma0\n",
    "    max_iter = 100\n",
    "    sigma_list = []\n",
    "    flist = []\n",
    "    compar = cost(x + sigma * d )\n",
    "    cost_x = cost(x)\n",
    "    sigma_list = [sigma]\n",
    "    flist = [compar]\n",
    "    \n",
    "    while compar > cost_x + c * sigma * crit  and i < max_iter:\n",
    "        sigma = rho * sigma\n",
    "        compar = cost(x + sigma * d)\n",
    "        sigma_list.append(sigma)\n",
    "        flist.append(compar)\n",
    "        i += 1\n",
    "    if fig == True:      \n",
    "        return sigma, sigma_list, flist          \n",
    "    else :\n",
    "        return sigma"
   ]
  },
  {
   "cell_type": "code",
   "execution_count": 0,
   "metadata": {
    "colab": {},
    "colab_type": "code",
    "id": "-5tzCr3vgs6n"
   },
   "outputs": [],
   "source": [
    "plt.plot(losses)"
   ]
  }
 ],
 "metadata": {
  "colab": {
   "collapsed_sections": [],
   "name": " RegLogSoftMax_Atrous.ipynb",
   "provenance": [],
   "version": "0.3.2"
  },
  "kernelspec": {
   "display_name": "Python 3",
   "language": "python",
   "name": "python3"
  },
  "language_info": {
   "codemirror_mode": {
    "name": "ipython",
    "version": 3
   },
   "file_extension": ".py",
   "mimetype": "text/x-python",
   "name": "python",
   "nbconvert_exporter": "python",
   "pygments_lexer": "ipython3",
   "version": "3.7.10"
  }
 },
 "nbformat": 4,
 "nbformat_minor": 1
}
